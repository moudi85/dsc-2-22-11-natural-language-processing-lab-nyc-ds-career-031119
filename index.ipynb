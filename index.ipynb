{
 "cells": [
  {
   "cell_type": "markdown",
   "metadata": {},
   "source": [
    "# Word Vectorization - Lab\n",
    "\n",
    "## Introduction\n",
    "\n",
    "In this lab, we'll learn how tokenize and vectorize text documents, create and use a Bag of Words, and identify words unique to individual documents using TF-IDF Vectorization. \n",
    "\n",
    "## Objectives\n",
    "\n",
    "You will be able to: \n",
    "\n",
    "* Tokenize a corpus of words and identify the different choices to be made while parsing them\n",
    "* Use a Count Vectorization strategy to create a Bag of Words\n",
    "* Use TF-IDF Vectorization with multiple documents to identify words that are important/unique to certain documents\n",
    "\n",
    "## Let's get started!\n",
    "\n",
    "Run the cell below to import everything necessary for this lab.  "
   ]
  },
  {
   "cell_type": "code",
   "execution_count": 24,
   "metadata": {},
   "outputs": [],
   "source": [
    "import pandas as pd\n",
    "import numpy as np\n",
    "from mpl_toolkits.mplot3d import Axes3D\n",
    "import matplotlib.pyplot as plt\n",
    "%matplotlib inline\n",
    "from sklearn.manifold import TSNE\n",
    "from nltk.tokenize import word_tokenize\n",
    "np.random.seed(0)"
   ]
  },
  {
   "cell_type": "markdown",
   "metadata": {},
   "source": [
    "### Our Corpus\n",
    "\n",
    "In this lab, we'll be working with 20 different documents, each containing song lyrics from either Garth Brooks or Kendrick Lamar albums.  \n",
    "\n",
    "The songs are contained within the `data` subdirectory, contained within the same folder as this lab.  Each song is stored in a single file, with files ranging from `song1.txt` to `song20.txt`.  \n",
    "\n",
    "To make it easy to read in all of the documents, use a list comprehension to create a list containing the name of every single song file in the cell below. "
   ]
  },
  {
   "cell_type": "code",
   "execution_count": 25,
   "metadata": {},
   "outputs": [],
   "source": [
    "filenames = ['song' + str(i) + '.txt' for i in range(1, 21)]\n",
    "# filenames"
   ]
  },
  {
   "cell_type": "markdown",
   "metadata": {},
   "source": [
    "Next, let's import a single song to see what our text looks like so that we can make sure we clean and tokenize it correctly. \n",
    "\n",
    "In the cell below, read in and print out the lyrics from `song11.txt`.  Use vanilla python, no pandas needed.  "
   ]
  },
  {
   "cell_type": "code",
   "execution_count": 9,
   "metadata": {},
   "outputs": [],
   "source": [
    "songs_df = pd.DataFrame()"
   ]
  },
  {
   "cell_type": "code",
   "execution_count": 26,
   "metadata": {},
   "outputs": [
    {
     "name": "stdout",
     "output_type": "stream",
     "text": [
      "['[Kendrick Lamar:]\\n', \"Love, let's talk about love\\n\", 'Is it anything and everything you hoped for?\\n', 'Or do the feeling haunt you?\\n', 'I know the feeling haunt you\\n', '[SZA:]\\n', 'This may be the night that my dreams might let me know\\n', 'All the stars approach you, all the stars approach you, all the stars approach you\\n', 'This may be the night that my dreams might let me know\\n', 'All the stars are closer, all the stars are closer, all the stars are closer\\n', '[Kendrick Lamar:]\\n', \"Tell me what you gon' do to me\\n\", \"Confrontation ain't nothin' new to me\\n\", 'You can bring a bullet, bring a sword, bring a morgue\\n', \"But you can't bring the truth to me\\n\", 'Fuck you and all your expectations\\n', \"I don't even want your congratulations\\n\", 'I recognize your false confidence\\n', 'And calculated promises all in your conversation\\n', 'I hate people that feel entitled\\n', \"Look at me crazy 'cause I ain't invite you\\n\", 'Oh, you important?\\n', \"You the moral to the story? You endorsin'?\\n\", \"Motherfucker, I don't even like you\\n\", \"Corrupt a man's heart with a gift\\n\", \"That's how you find out who you dealin' with\\n\", \"A small percentage who I'm buildin' with\\n\", \"I want the credit if I'm losin' or I'm winnin'\\n\", \"On my momma, that's the realest shit\\n\", \"Love, let's talk about love\\n\", 'Is it anything and everything you hoped for?\\n', 'Or do the feeling haunt you?\\n', 'I know the feeling haunt you\\n', '[SZA:]\\n', 'This may be the night that my dreams might let me know\\n', 'All the stars approach you, all the stars approach you, all the stars approach you\\n', 'This may be the night that my dreams might let me know\\n', 'All the stars are closer, all the stars are closer, all the stars are closer\\n', 'Skin covered in ego\\n', \"Get to talkin' like ya involved, like a rebound\\n\", 'Got no end game, got no reason\\n', \"Got to stay down, it's the way that you making me feel\\n\", 'Like nobody ever loved me like you do, you do\\n', \"You kinda feeling like you're tryna get away from me\\n\", \"If you do, I won't move\\n\", \"I ain't just cryin' for no reason\\n\", \"I ain't just prayin' for no reason\\n\", 'I give thanks for the days, for the hours\\n', \"And another way, another life breathin'\\n\", \"I did it all 'cause it feel good\\n\", \"I wouldn't do it at all if it feel bad\\n\", \"Better live your life, we're runnin' out of time\\n\", '[Kendrick Lamar & SZA:]\\n', \"Love, let's talk about love\\n\", 'Is it anything and everything you hoped for?\\n', 'Or do the feeling haunt you?\\n', 'I know the feeling haunt you\\n', '[SZA:]\\n', 'This may be the night that my dreams might let me know\\n', 'All the stars approach you, all the stars approach you, all the stars approach you\\n', 'This may be the night that my dreams might let me know\\n', 'All the stars are closer, all the stars are closer, all the stars are closer\\n']\n"
     ]
    }
   ],
   "source": [
    "with open('data/song11.txt') as f:\n",
    "    test_song = f.readlines()\n",
    "    print(test_song)"
   ]
  },
  {
   "cell_type": "markdown",
   "metadata": {},
   "source": [
    "### Tokenizing our Data\n",
    "\n",
    "Before we can create a Bag of Words or vectorize each document, we need to clean it up and split each song into an array of individual words.  Computers are very particular about strings. If we tokenized our data in it's current state, we would run into the following problems:\n",
    "\n",
    "1. Counting things that aren't actually words.  In the example above, `\"[Kendrick]\"` is a note specifying who is speaking, not a lyric contained in the actual song, so it should be removed.  \n",
    "1. Punctuation and capitalization would mess up our word counts.  To the python interpreter, `love`, `Love`, `Love?`, and `Love\\n` are all unique words, and would all be counted separately.  We need to remove punctuation and capitalization, so that all words will be counted correctly. \n",
    "\n",
    "Consider the following sentences from the example above:\n",
    "\n",
    "`\"Love, let's talk about love\\n\", 'Is it anything and everything you hoped for?\\n'`\n",
    "\n",
    "After tokenization, this should look like:\n",
    "\n",
    "`['love', 'let's', 'talk', 'about', 'love', 'is', 'it', 'anything', 'and', 'everything', 'you', 'hoped', 'for']`\n",
    "\n",
    "Tokenization is pretty tedious if we handle it manually, and would probably make use of Regular Expressions, which is outside the scope of this lab.  In order to keep this lab moving, we'll use a library function to clean and tokenize our data so that we can move onto vectorization.  \n",
    "\n",
    "Tokenization is a required task for just about any Natural Language Processing (NLP) task, so great industry-standard tools exist to tokenize things for us, so that we can spend our time on more important tasks without getting bogged down hunting every special symbol or punctuation in a massive dataset. For this lab, we'll make use of the tokenizer in the amazing `nltk` library, which is short for _Natural Language Tool Kit_.\n",
    "\n",
    "**_NOTE:_** NLTK requires extra installation methods to be run the first time certain methods are used.  If `nltk` throws you an error about needing to install additional packages, follow the instructions in the error message to install the dependencies, and then rerun the cell.  \n",
    "\n",
    "Before we tokenize our songs, we'll do only a small manual bit of cleaning.  In the cell below, write a function that allows us to remove lines that have `['artist names']` in it, to ensure that our song files contain only lyrics that are actually in the song. For the lines that remain, make every word lowercase, remove newline characters `\\n`, and any of the following punctuation marks: `\",.'?!\"`\n",
    "\n",
    "Test the function on `test_song` to show that it has successfully removed `'[Kendrick Lamar:]'` and other instances of artist names from the song and returned it.  "
   ]
  },
  {
   "cell_type": "code",
   "execution_count": 11,
   "metadata": {},
   "outputs": [
    {
     "name": "stderr",
     "output_type": "stream",
     "text": [
      "[nltk_data] Downloading package punkt to /home/victorious-\n",
      "[nltk_data]     instructions-6818/nltk_data...\n",
      "[nltk_data]   Unzipping tokenizers/punkt.zip.\n"
     ]
    },
    {
     "data": {
      "text/plain": [
       "True"
      ]
     },
     "execution_count": 11,
     "metadata": {},
     "output_type": "execute_result"
    }
   ],
   "source": [
    "import nltk\n",
    "nltk.download('punkt')"
   ]
  },
  {
   "cell_type": "code",
   "execution_count": 27,
   "metadata": {},
   "outputs": [
    {
     "data": {
      "text/plain": [
       "['love lets talk about love',\n",
       " 'is it anything and everything you hoped for',\n",
       " 'or do the feeling haunt you',\n",
       " 'i know the feeling haunt you',\n",
       " 'this may be the night that my dreams might let me know',\n",
       " 'all the stars approach you all the stars approach you all the stars approach you',\n",
       " 'this may be the night that my dreams might let me know',\n",
       " 'all the stars are closer all the stars are closer all the stars are closer',\n",
       " 'tell me what you gon do to me',\n",
       " 'confrontation aint nothin new to me',\n",
       " 'you can bring a bullet bring a sword bring a morgue',\n",
       " 'but you cant bring the truth to me',\n",
       " 'fuck you and all your expectations',\n",
       " 'i dont even want your congratulations',\n",
       " 'i recognize your false confidence',\n",
       " 'and calculated promises all in your conversation',\n",
       " 'i hate people that feel entitled',\n",
       " 'look at me crazy cause i aint invite you',\n",
       " 'oh you important',\n",
       " 'you the moral to the story you endorsin',\n",
       " 'motherfucker i dont even like you',\n",
       " 'corrupt a mans heart with a gift',\n",
       " 'thats how you find out who you dealin with',\n",
       " 'a small percentage who im buildin with',\n",
       " 'i want the credit if im losin or im winnin',\n",
       " 'on my momma thats the realest shit',\n",
       " 'love lets talk about love',\n",
       " 'is it anything and everything you hoped for',\n",
       " 'or do the feeling haunt you',\n",
       " 'i know the feeling haunt you',\n",
       " 'this may be the night that my dreams might let me know',\n",
       " 'all the stars approach you all the stars approach you all the stars approach you',\n",
       " 'this may be the night that my dreams might let me know',\n",
       " 'all the stars are closer all the stars are closer all the stars are closer',\n",
       " 'skin covered in ego',\n",
       " 'get to talkin like ya involved like a rebound',\n",
       " 'got no end game got no reason',\n",
       " 'got to stay down its the way that you making me feel',\n",
       " 'like nobody ever loved me like you do you do',\n",
       " 'you kinda feeling like youre tryna get away from me',\n",
       " 'if you do i wont move',\n",
       " 'i aint just cryin for no reason',\n",
       " 'i aint just prayin for no reason',\n",
       " 'i give thanks for the days for the hours',\n",
       " 'and another way another life breathin',\n",
       " 'i did it all cause it feel good',\n",
       " 'i wouldnt do it at all if it feel bad',\n",
       " 'better live your life were runnin out of time',\n",
       " 'love lets talk about love',\n",
       " 'is it anything and everything you hoped for',\n",
       " 'or do the feeling haunt you',\n",
       " 'i know the feeling haunt you',\n",
       " 'this may be the night that my dreams might let me know',\n",
       " 'all the stars approach you all the stars approach you all the stars approach you',\n",
       " 'this may be the night that my dreams might let me know',\n",
       " 'all the stars are closer all the stars are closer all the stars are closer']"
      ]
     },
     "execution_count": 27,
     "metadata": {},
     "output_type": "execute_result"
    }
   ],
   "source": [
    "def clean_song(song):\n",
    "    cleaned_song = []\n",
    "    for line in song:\n",
    "        if not '[' in line and  not ']' in line:\n",
    "            for symbol in \",.?!''\\n\":\n",
    "                line = line.replace(symbol, '').lower()\n",
    "            cleaned_song.append(line)\n",
    "\n",
    "    return cleaned_song\n",
    "\n",
    "song_without_brackets = clean_song(test_song)\n",
    "song_without_brackets"
   ]
  },
  {
   "cell_type": "markdown",
   "metadata": {},
   "source": [
    "Great. Now, write a function that takes in songs that have had their brackets removed, joins all of the lines into a single string, and then uses `tokenize()` on it to get a fully tokenized version of the song.  Test this funtion on `song_without_brackets` to ensure that the function works. "
   ]
  },
  {
   "cell_type": "code",
   "execution_count": 28,
   "metadata": {},
   "outputs": [
    {
     "data": {
      "text/plain": [
       "['love',\n",
       " 'lets',\n",
       " 'talk',\n",
       " 'about',\n",
       " 'love',\n",
       " 'is',\n",
       " 'it',\n",
       " 'anything',\n",
       " 'and',\n",
       " 'everything']"
      ]
     },
     "execution_count": 28,
     "metadata": {},
     "output_type": "execute_result"
    }
   ],
   "source": [
    "def tokenize(song):\n",
    "    joined_song = ' '.join(song)\n",
    "    tokenized_song = word_tokenize(joined_song)\n",
    "    \n",
    "    return tokenized_song\n",
    "\n",
    "tokenized_test_song = tokenize(song_without_brackets)\n",
    "tokenized_test_song[:10]"
   ]
  },
  {
   "cell_type": "markdown",
   "metadata": {},
   "source": [
    "Great! Now that we know the ability to tokenize our songs, we can move onto Vectorization. \n",
    "\n",
    "### Count Vectorization\n",
    "\n",
    "Machine Learning algorithms don't understand strings.  However, they do understand math, which means they understand vectors and matrices.  By **_Vectorizing_** the text, we just convert the entire text into a vector, where each element in the vector represents a different word.  The vector is the length of the entire vocabulary--usually, every word that occurs in the English language, or at least every word that appears in our corpus.  Any given sentence can then be represented as a vector where all the vector is 1 (or some other value) for each time that word appears in the sentence. \n",
    "\n",
    "Consider the following example: \n",
    "\n",
    "<center>\"I scream, you scream, we all scream for ice cream.\"</center>\n",
    "\n",
    "| 'aardvark' | 'apple' | [...] | 'I' | 'you' | 'scream' | 'we' | 'all' | 'for' | 'ice' | 'cream' | [...] | 'xylophone' | 'zebra' |\n",
    "|:----------:|:-------:|:-----:|:---:|:-----:|:--------:|:----:|:-----:|:-----:|:-----:|:-------:|:-----:|:-----------:|:-------:|\n",
    "|      0     |    0    |   0   |  1  |   1   |     3    |   1  |   1   |   1   |   1   |    1    |   0   |      0      |    0    |\n",
    "\n",
    "This is called a **_Sparse Representation_**, since the strong majority of the columns will have a value of 0.  Note that elements corresponding to words that do not occur in the sentence have a value of 0, while words that do appear in the sentence have a value of 1 (or 1 for each time it appears in the sentence).\n",
    "\n",
    "Alternatively, we can represent this sentence as a plain old python dictionary of word frequency counts:\n",
    "\n",
    "```python\n",
    "BoW = {\n",
    "    'I':1,\n",
    "    'you':1,\n",
    "    'scream':3,\n",
    "    'we':1,\n",
    "    'all':1,\n",
    "    'for':1,\n",
    "    'ice':1,\n",
    "    'cream':1\n",
    "}\n",
    "```\n",
    "\n",
    "Both of these are examples of **_Count Vectorization_**. They allow us to represent a sentence as a vector, with each element in the vector corresponding to how many times that word is used.\n",
    "\n",
    "#### Positional Information and Bag of Words\n",
    "\n",
    "Notice that when we vectorize a sentence this way, we lose the order that the words were in.  This is the **_Bag of Words_** approach mentioned earlier.  Note that sentences that contain the same words will create the same vectors, even if they mean different things--e.g. `'cats are scared of dogs'` and `'dogs are scared of cats'` would both produce the exact same vector, since they contain the same words.  \n",
    "\n",
    "In the cell below, create a function that takes in a tokenized, cleaned song and returns a Count Vectorized representation of it as a python dictionary. Add in an optional parameter called `vocab` that defaults to `None`. This way, if we are using a vocabulary that contains words not seen in the song, we can still use this function by passing it in to the `vocab` parameter. \n",
    "\n",
    "**_Hint:_**  Consider using a `set` object to make this easier!"
   ]
  },
  {
   "cell_type": "code",
   "execution_count": 29,
   "metadata": {},
   "outputs": [
    {
     "name": "stdout",
     "output_type": "stream",
     "text": [
      "{'aint': 4, 'live': 1, 'of': 1, 'to': 6, 'i': 15, 'your': 5, 'feeling': 7, 'mans': 1, 'calculated': 1, 'might': 6, 'im': 3, 'do': 8, 'oh': 1, 'dealin': 1, 'no': 4, 'hoped': 3, 'skin': 1, 'rebound': 1, 'congratulations': 1, 'what': 1, 'closer': 9, 'good': 1, 'breathin': 1, 'haunt': 6, 'people': 1, 'gon': 1, 'percentage': 1, 'expectations': 1, 'gift': 1, 'small': 1, 'the': 38, 'you': 34, 'fuck': 1, 'or': 4, 'ya': 1, 'move': 1, 'nobody': 1, 'on': 1, 'important': 1, 'stars': 18, 'with': 3, 'did': 1, 'but': 1, 'game': 1, 'moral': 1, 'talkin': 1, 'anything': 3, 'cant': 1, 'who': 2, 'ego': 1, 'thats': 2, 'can': 1, 'even': 2, 'heart': 1, 'reason': 3, 'like': 6, 'involved': 1, 'its': 1, 'nothin': 1, 'hate': 1, 'let': 6, 'cryin': 1, 'hours': 1, 'buildin': 1, 'crazy': 1, 'conversation': 1, 'dont': 2, 'were': 1, 'confidence': 1, 'know': 9, 'endorsin': 1, 'bullet': 1, 'shit': 1, 'stay': 1, 'invite': 1, 'get': 2, 'prayin': 1, 'it': 7, 'story': 1, 'promises': 1, 'truth': 1, 'is': 3, 'better': 1, 'if': 3, 'morgue': 1, 'look': 1, 'away': 1, 'a': 7, 'my': 7, 'lets': 3, 'thanks': 1, 'how': 1, 'ever': 1, 'from': 1, 'about': 3, 'youre': 1, 'this': 6, 'wouldnt': 1, 'be': 6, 'give': 1, 'out': 2, 'just': 2, 'love': 6, 'talk': 3, 'may': 6, 'all': 22, 'new': 1, 'everything': 3, 'entitled': 1, 'time': 1, 'another': 2, 'that': 8, 'are': 9, 'days': 1, 'sword': 1, 'making': 1, 'night': 6, 'tryna': 1, 'down': 1, 'for': 7, 'wont': 1, 'in': 2, 'feel': 4, 'end': 1, 'bring': 4, 'find': 1, 'got': 3, 'loved': 1, 'me': 14, 'dreams': 6, 'approach': 9, 'winnin': 1, 'losin': 1, 'credit': 1, 'runnin': 1, 'recognize': 1, 'corrupt': 1, 'confrontation': 1, 'false': 1, 'cause': 2, 'life': 2, 'motherfucker': 1, 'tell': 1, 'covered': 1, 'and': 6, 'bad': 1, 'way': 2, 'want': 2, 'momma': 1, 'realest': 1, 'kinda': 1, 'at': 2}\n"
     ]
    }
   ],
   "source": [
    "def count_vectorize(song, vocab=None):\n",
    "    if vocab:\n",
    "        unique_words = vocab\n",
    "    else:\n",
    "        unique_words = list(set(song))\n",
    "    \n",
    "    song_dict = {i:0 for i in unique_words}\n",
    "    \n",
    "    for word in song:\n",
    "        song_dict[word] += 1\n",
    "    \n",
    "    return song_dict\n",
    "\n",
    "test_vectorized = count_vectorize(tokenized_test_song)\n",
    "print(test_vectorized)"
   ]
  },
  {
   "cell_type": "markdown",
   "metadata": {},
   "source": [
    "Great! You've just successfully vectorized your first text document! Now, let's look at a more advanced type of vectorization, TF-IDF!\n",
    "\n",
    "### TF-IDF Vectorization\n",
    "\n",
    "TF-IDF stands for **_Term Frequency, Inverse Document Frequency_**.  This is a more advanced form of vectorization that weights each term in a document by how unique it is to the given document it is contained in, which allows us to summarize the contents of a document using a few key words.  If the word is used often in many other documents, it is not unique, and therefore probably not too useful if we wanted to figure out how this document is unique in relation to other documents.  Conversely, if a word is used many times in a document, but rarely in all the other documents we are considering, then it is likely a good indicator for telling us that this word is important to the document in question.  \n",
    "\n",
    "The formula TF-IDF uses to determine the weights of each term in a document is **_Term Frequency_** multipled by **_Inverse Document Frequency_**, where the formula for Term Frequency is:\n",
    "\n",
    "$$\\large Term\\ Frequency(t) = \\frac{number\\ of\\ times\\ t\\ appears\\ in\\ a\\ document} {total\\ number\\ of\\ terms\\ in\\ the\\ document} $$\n",
    "<br>\n",
    "<br>\n",
    "Complete the following function below to calculate term frequency for every term in a document.  "
   ]
  },
  {
   "cell_type": "code",
   "execution_count": 30,
   "metadata": {},
   "outputs": [
    {
     "name": "stdout",
     "output_type": "stream",
     "text": [
      "['im', 'do', 'oh', 'dealin', 'no', 'hoped', 'skin', 'rebound', 'congratulations', 'what']\n"
     ]
    }
   ],
   "source": [
    "def term_frequency(BoW_dict):\n",
    "    total_word_count = sum(BoW_dict.values())\n",
    "    \n",
    "    for ind, val in BoW_dict.items():\n",
    "        BoW_dict[ind] = val/ total_word_count\n",
    "    \n",
    "    return BoW_dict\n",
    "\n",
    "test = term_frequency(test_vectorized)\n",
    "print(list(test)[10:20])"
   ]
  },
  {
   "cell_type": "markdown",
   "metadata": {},
   "source": [
    "The formula for Inverse Document Frequency is:  \n",
    "<br>  \n",
    "<br>\n",
    "$$\\large  IDF(t) =  log_e(\\frac{Total\\ Number\\ of\\ Documents}{Number\\ of\\ Documents\\ with\\ t\\ in\\ it})$$\n",
    "\n",
    "Now that we have this, we can easily calculate _Inverse Document Frequency_.  In the cell below, complete the following function.  this function should take in the list of dictionaries, with each item in the list being a Bag of Words representing the words in a different song. The function should return a dictionary containing the inverse document frequency values for each word.  "
   ]
  },
  {
   "cell_type": "code",
   "execution_count": 31,
   "metadata": {},
   "outputs": [],
   "source": [
    "def inverse_document_frequency(list_of_dicts):\n",
    "    vocab_set = set()\n",
    "    # Iterate through list of dfs and add index to vocab_set\n",
    "    for d in list_of_dicts:\n",
    "        for word in d.keys():\n",
    "            vocab_set.add(word)\n",
    "    \n",
    "    # Once vocab set is complete, create an empty dictionary with a key for each word and value of 0.\n",
    "    full_vocab_dict = {i:0 for i in vocab_set}\n",
    "    \n",
    "    # Loop through each word in full_vocab_dict\n",
    "    for word, val in full_vocab_dict.items():\n",
    "        docs = 0\n",
    "        \n",
    "        # Loop through list of dicts.  Each time a dictionary contains the word, increment docs by 1\n",
    "        for d in list_of_dicts:\n",
    "            if word in d:\n",
    "                docs += 1\n",
    "        \n",
    "        # Now that we know denominator for equation, compute and set IDF value for word\n",
    "        \n",
    "        full_vocab_dict[word] = np.log((len(list_of_dicts)/ float(docs)))\n",
    "    \n",
    "    return full_vocab_dict"
   ]
  },
  {
   "cell_type": "markdown",
   "metadata": {},
   "source": [
    "### Computing TF-IDF\n",
    "\n",
    "Now that we can compute both Term Frequency and Inverse Document Frequency, computing an overall TF-IDF value is simple! All we need to do is multiply the two values.  \n",
    "\n",
    "In the cell below, complete the `tf_idf()` function.  This function should take in a list of dictionaries, just as the `inverse_document_frequency()` function did.  This function return a new list of dictionaries, with each dictionary containing the tf-idf vectorized representation of a corresponding song document. \n",
    "\n",
    "**_NOTE:_** Each document should contain the full vocabulary of the entire combined corpus.  "
   ]
  },
  {
   "cell_type": "code",
   "execution_count": 32,
   "metadata": {},
   "outputs": [],
   "source": [
    "def tf_idf(list_of_dicts):\n",
    "    # Create empty dictionary containing full vocabulary of entire corpus\n",
    "    doc_tf_idf = {}\n",
    "    idf = inverse_document_frequency(list_of_dicts)\n",
    "    full_vocab_list = {i:0 for i in list(idf.keys())}\n",
    "    \n",
    "    # Create tf-idf list of dictionaries, containing a dictionary that will be updated for each document\n",
    "    tf_idf_list_of_dicts = []\n",
    "    \n",
    "    # Now, compute tf and then use this to compute and set tf-idf values for each document\n",
    "    for doc in list_of_dicts:\n",
    "        doc_tf = term_frequency(doc)\n",
    "        for word in doc_tf:\n",
    "            doc_tf_idf[word] = doc_tf[word] * idf[word]\n",
    "        tf_idf_list_of_dicts.append(doc_tf_idf)\n",
    "    \n",
    "    return tf_idf_list_of_dicts"
   ]
  },
  {
   "cell_type": "markdown",
   "metadata": {},
   "source": [
    "### Vectorizing All Documents\n",
    "\n",
    "Now that we've created all the necessary helper functions, we can load in all of our documents and run each through the vectorization pipeline we've just created.\n",
    "\n",
    "In the cell below, complete the `main` function.  This function should take in a list of file names (provided for you in the `filenames` list we created at the start), and then:\n",
    "\n",
    "1. Read in each document\n",
    "1. Tokenize each document\n",
    "1. Convert each document to a Bag of Words (dictionary representation)\n",
    "1. Return a list of dictionaries vectorized using tf-idf, where each dictionary is a vectorized representation of a document.  \n",
    "\n",
    "**_HINT:_** Remember that all files are stored in the `data/` directory.  Be sure to append this to the filename when reading in each file, otherwise the path won't be correct!"
   ]
  },
  {
   "cell_type": "code",
   "execution_count": 33,
   "metadata": {},
   "outputs": [
    {
     "name": "stdout",
     "output_type": "stream",
     "text": [
      "['he', 'rolled', 'hummed', 'of', 'to', 'day', 'passage', 'so', 'runneth', 'frozen']\n"
     ]
    }
   ],
   "source": [
    "def main(filenames):\n",
    "    # Iterate through list of filenames and read each in\n",
    "    count_vectorized_all_documents = []\n",
    "    for file in filenames:\n",
    "        with open('data/' + file) as f:\n",
    "            raw_data = f.readlines()\n",
    "        # Clean and tokenize raw text\n",
    "        cleaned = clean_song(raw_data)\n",
    "        tokenized = tokenize(cleaned)\n",
    "        \n",
    "        # Get count vectorized representation and store in count_vectorized_all_documents  \n",
    "        count_vectorized_document = count_vectorize(tokenized)\n",
    "        count_vectorized_all_documents.append(count_vectorized_document)\n",
    "    \n",
    "    # Now that we have a list of BoW respresentations of each song, create a tf-idf representation of everything\n",
    "    tf_idf_all_docs = tf_idf(count_vectorized_all_documents)\n",
    "    \n",
    "    return tf_idf_all_docs\n",
    "\n",
    "tf_idf_all_docs = main(filenames)\n",
    "print(list(tf_idf_all_docs[0])[:10])"
   ]
  },
  {
   "cell_type": "markdown",
   "metadata": {},
   "source": [
    "### Visualizing our Vectorizations\n",
    "\n",
    "Now that we have a tf-idf representation each document, we can move on to the fun part--visualizing everything!\n",
    "\n",
    "Let's investigate how many dimensions our data currently has.  In the cell below, examine our dataset to figure out how many dimensions our dataset has. \n",
    "\n",
    "**_HINT_**: Remember that every word is it's own dimension!"
   ]
  },
  {
   "cell_type": "code",
   "execution_count": 34,
   "metadata": {},
   "outputs": [
    {
     "name": "stdout",
     "output_type": "stream",
     "text": [
      "Number of Dimensions: 1344\n"
     ]
    }
   ],
   "source": [
    "num_dims = len(tf_idf_all_docs[0])\n",
    "print(\"Number of Dimensions: {}\".format(num_dims))"
   ]
  },
  {
   "cell_type": "markdown",
   "metadata": {},
   "source": [
    "That's much too high-dimensional for us to visualize! In order to make it understandable to human eyes, we'll need to reduce dimensionality to 2 or 3 dimensions.  \n",
    "\n",
    "### Reducing Dimensionality\n",
    "\n",
    "To do this, we'll use a technique called **_t-SNE_** (short for _t-Stochastic Neighbors Embedding_).  This is too complex for us to code ourselves, so we'll make use of sklearn's implementation of it.  \n",
    "\n",
    "First, we need to pull the words out of the dictionaries stored in `tf_idf_all_docs` so that only the values remain, and store them in lists instead of dictionaries.  This is because the t-SNE object only works with Array-like objects, not dictionaries.  \n",
    "\n",
    "In the cell below, create a list of lists that contains a list representation of the values of each of the dictionaries stored in `tf_idf_all_docs`.  The same structure should remain--e.g. the first list should contain only the values that were in the 1st dictionary in `tf_idf_all_docs`, and so on. "
   ]
  },
  {
   "cell_type": "code",
   "execution_count": 35,
   "metadata": {},
   "outputs": [
    {
     "data": {
      "text/plain": [
       "[0.004258968851366791,\n",
       " 0.006998738884480383,\n",
       " 0.009133330102298753,\n",
       " 0.002163023101141209,\n",
       " 0.00012855462252518916,\n",
       " 0.002416161391251272,\n",
       " 0.027399990306896257,\n",
       " 0.0015066182947505126,\n",
       " 0.027399990306896257,\n",
       " 0.009133330102298753]"
      ]
     },
     "execution_count": 35,
     "metadata": {},
     "output_type": "execute_result"
    }
   ],
   "source": [
    "tf_idf_vals_list = []\n",
    "\n",
    "for i in tf_idf_all_docs:\n",
    "    tf_idf_vals_list.append(list(i.values()))\n",
    "    \n",
    "tf_idf_vals_list[0][:10]"
   ]
  },
  {
   "cell_type": "markdown",
   "metadata": {},
   "source": [
    "Now that we have only the values, we can use the `TSNE` object from `sklearn` to transform our data appropriately.  In the cell below, create a `TSNE` with `n_components=3` passed in as a parameter.  Then, use the created object's `fit_transform()` method to transform the data stored in `tf_idf_vals_list` into 3-dimensional data.  Then, inspect the newly transformed data to confirm that it has the correct dimensionality. "
   ]
  },
  {
   "cell_type": "code",
   "execution_count": 39,
   "metadata": {},
   "outputs": [
    {
     "data": {
      "text/plain": [
       "array([[ 281.87454  ,   35.16364  , -219.95833  ],\n",
       "       [-216.58527  , -215.8648   , -174.53963  ],\n",
       "       [-140.19127  , -748.2236   , -142.4478   ],\n",
       "       [-243.12357  ,  174.96425  , -110.07009  ],\n",
       "       [ -34.71052  , -504.25504  ,  326.87894  ],\n",
       "       [  50.23459  ,  178.44128  , -269.87192  ],\n",
       "       [  57.134388 , -224.50253  ,  151.61768  ],\n",
       "       [-169.05492  ,  718.2406   ,  264.16528  ],\n",
       "       [ 165.91962  ,  244.81577  ,   66.99677  ],\n",
       "       [-198.27245  , -122.61721  ,   92.073845 ],\n",
       "       [ -10.271119 ,  382.76547  ,  -70.550804 ],\n",
       "       [  39.95955  ,   18.503887 ,  277.4961   ],\n",
       "       [-471.6017   ,  -72.191414 , -279.19196  ],\n",
       "       [ 151.96553  ,   -5.4142556,  -27.914566 ],\n",
       "       [ -51.508213 ,   90.45533  ,   31.390543 ],\n",
       "       [ 304.97882  ,  -70.71192  ,  140.92197  ],\n",
       "       [ -65.241394 ,  -27.71318  , -201.00394  ],\n",
       "       [-181.87617  ,  191.3221   ,  207.60052  ],\n",
       "       [  73.47969  , -249.06145  , -116.844025 ],\n",
       "       [ 662.27734  ,   60.771877 ,  378.67328  ]], dtype=float32)"
      ]
     },
     "execution_count": 39,
     "metadata": {},
     "output_type": "execute_result"
    }
   ],
   "source": [
    "t_sne_object_3d = TSNE(n_components=3)\n",
    "transformed_data_3d = t_sne_object_3d.fit_transform(tf_idf_vals_list)\n",
    "transformed_data_3d"
   ]
  },
  {
   "cell_type": "markdown",
   "metadata": {},
   "source": [
    "We'll also want to check out how the visualization looks in 2d.  Repeat the process above, but this time, create a `TSNE` object with 2 components instead of 3.  Again, use `fit_transform()` to transform the data and store it in the variable below, and then inspect it to confirm the transformed data has only 2 dimensions. "
   ]
  },
  {
   "cell_type": "code",
   "execution_count": 37,
   "metadata": {},
   "outputs": [
    {
     "data": {
      "text/plain": [
       "array([[-135.64908 ,   10.87916 ],\n",
       "       [ 141.31328 , -157.98526 ],\n",
       "       [ -96.95437 ,  228.5481  ],\n",
       "       [  82.009834,   47.476826],\n",
       "       [ -27.559048,   22.08765 ],\n",
       "       [ 158.74287 ,  -44.225483],\n",
       "       [  14.189352,  131.0717  ],\n",
       "       [ 199.5692  ,   68.42205 ],\n",
       "       [ 291.7267  ,   -5.170922],\n",
       "       [  34.868004,  244.52863 ],\n",
       "       [-241.07162 ,  -24.364489],\n",
       "       [-296.36398 ,   79.19098 ],\n",
       "       [-194.62834 ,  137.51024 ],\n",
       "       [-179.02354 , -117.55476 ],\n",
       "       [ -92.33137 , -203.984   ],\n",
       "       [  22.66569 , -173.08301 ],\n",
       "       [ -90.02432 ,  110.70931 ],\n",
       "       [ -65.81759 ,  -81.83976 ],\n",
       "       [  44.839314,  -58.18017 ],\n",
       "       [ 134.41437 ,  166.36353 ]], dtype=float32)"
      ]
     },
     "execution_count": 37,
     "metadata": {},
     "output_type": "execute_result"
    }
   ],
   "source": [
    "t_sne_object_2d = TSNE(n_components=2)\n",
    "transformed_data_2d = t_sne_object_2d.fit_transform(tf_idf_vals_list)\n",
    "transformed_data_2d"
   ]
  },
  {
   "cell_type": "markdown",
   "metadata": {},
   "source": [
    "Now, let's visualize everything!  Run the cell below to a 3D visualization of the songs."
   ]
  },
  {
   "cell_type": "code",
   "execution_count": 38,
   "metadata": {},
   "outputs": [
    {
     "data": {
      "image/png": "[encoded data removed]",
      "text/plain": [
       "<Figure size 720x360 with 1 Axes>"
      ]
     },
     "metadata": {
      "needs_background": "light"
     },
     "output_type": "display_data"
    },
    {
     "data": {
      "image/png": "[encoded data removed]",
      "text/plain": [
       "<Figure size 1440x720 with 1 Axes>"
      ]
     },
     "metadata": {
      "needs_background": "light"
     },
     "output_type": "display_data"
    }
   ],
   "source": [
    "kendrick_3d = transformed_data_3d[:10]\n",
    "k3_x = [i[0] for i in kendrick_3d]\n",
    "k3_y = [i[1] for i in kendrick_3d]\n",
    "k3_z = [i[2] for i in kendrick_3d]\n",
    "\n",
    "garth_3d = transformed_data_3d[10:]\n",
    "g3_x = [i[0] for i in garth_3d]\n",
    "g3_y = [i[1] for i in garth_3d]\n",
    "g3_z = [i[2] for i in garth_3d]\n",
    "\n",
    "fig = plt.figure(figsize=(10,5))\n",
    "ax = fig.add_subplot(111, projection='3d')\n",
    "ax.scatter(k3_x, k3_y, k3_z, c='b', s=60, label='Kendrick')\n",
    "ax.scatter(g3_x, g3_y, g3_z, c='red', s=60, label='Garth')\n",
    "ax.view_init(30, 10)\n",
    "ax.legend()\n",
    "plt.show()\n",
    "\n",
    "kendrick_2d = transformed_data_2d[:10]\n",
    "k2_x = [i[0] for i in kendrick_2d]\n",
    "k2_y = [i[1] for i in kendrick_2d]\n",
    "\n",
    "garth_2d = transformed_data_2d[10:]\n",
    "g2_x = [i[0] for i in garth_2d]\n",
    "g2_y = [i[1] for i in garth_2d]\n",
    "\n",
    "fig = plt.figure(figsize=(20,10))\n",
    "ax = fig.add_subplot(222)\n",
    "ax.scatter(k2_x, k2_y, c='b', label='Kendrick')\n",
    "ax.scatter(g2_x, g2_y, c='red', label='Garth')\n",
    "ax.legend()\n",
    "plt.show()"
   ]
  },
  {
   "cell_type": "markdown",
   "metadata": {},
   "source": [
    "Interesting! Take a crack at interpreting these graphs by answering the following question below:\n",
    "\n",
    "What does each graph mean? Do you find one graph more informative than the other? Do you think that this method shows us discernable differences between Kendrick Lamar songs and Garth Brooks songs?  Use the graphs and your understanding of TF-IDF to support your answer.  \n",
    "\n",
    "Write your answer to this question below this line:\n",
    "________________________________________________________________________________________________________________________________\n",
    "\n",
    "Both graphs show a basic trend among the red and blue dots, although the 3-dimensional graph is more informative than the 2-dimensional graph.  We see a separation between the two artists because they both have words that they use, but the other artist does not.  The words in each song that are common to both are reduced very small numbers or to 0, because of the log operation in the IDF function.  This means that the elements of each song vector with the highest values will be the ones that have words that are unique to that specific document, or at least are rarely used in others.  "
   ]
  },
  {
   "cell_type": "markdown",
   "metadata": {},
   "source": [
    "## Summary\n",
    "\n",
    "In this lab, we learned how to: \n",
    "* Tokenize a corpus of words and identify the different choices to be made while parsing them\n",
    "* Use a Count Vectorization strategy to create a Bag of Words\n",
    "* Use TF-IDF Vectorization with multiple documents to identify words that are important/unique to certain documents\n",
    "* Visualize and compare vectorized text documents"
   ]
  }
 ],
 "metadata": {
  "kernelspec": {
   "display_name": "Python 3",
   "language": "python",
   "name": "python3"
  },
  "language_info": {
   "codemirror_mode": {
    "name": "ipython",
    "version": 3
   },
   "file_extension": ".py",
   "mimetype": "text/x-python",
   "name": "python",
   "nbconvert_exporter": "python",
   "pygments_lexer": "ipython3",
   "version": "3.6.6"
  }
 },
 "nbformat": 4,
 "nbformat_minor": 2
}
